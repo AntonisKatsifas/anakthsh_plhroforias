Requirements:
pip install bs4, ntlk, rank_bm25, scikit-learn, requests


